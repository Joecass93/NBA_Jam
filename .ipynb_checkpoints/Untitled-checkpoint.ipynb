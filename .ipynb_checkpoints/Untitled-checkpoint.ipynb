{
 "cells": [
  {
   "cell_type": "code",
   "execution_count": 1,
   "metadata": {},
   "outputs": [],
   "source": [
    "import requests\n",
    "import ast\n",
    "import json\n",
    "import pandas as pd\n",
    "import numpy as np"
   ]
  },
  {
   "cell_type": "code",
   "execution_count": 7,
   "metadata": {},
   "outputs": [],
   "source": [
    "col_names = ['test_a', 'test_b']\n",
    "four_factors_list = [['test_1', 'test_2'], ['test_3', 'test_4']]\n",
    "\n",
    "first = '2016-17'\n",
    "second = '2017-18'\n",
    "\n",
    "four_factors = pd.DataFrame(four_factors_list, columns = col_names)\n",
    "four_factors.to_csv('four_factors_stats_%s-%s.csv'%(first, second))"
   ]
  },
  {
   "cell_type": "code",
   "execution_count": null,
   "metadata": {},
   "outputs": [],
   "source": [
    "four_factors_list = []\n",
    "counter = 0\n",
    "game_ids = ['0021000017', '0021000018']\n",
    "for g in game_ids:\n",
    "    games_url = 'https://stats.nba.com/stats/boxscorefourfactorsv2?StartPeriod=1&StartRange=0&EndPeriod=10&EndRange=2147483647&GameID=%s&RangeType=0'%g\n",
    "    response = requests.get(games_url, headers=request_header)\n",
    "    counter = counter + 1\n",
    "    ## Data cleaning\n",
    "    data = response.text\n",
    "    data = json.loads(data)\n",
    "    cleaner = data['resultSets']\n",
    "    cleanest = cleaner[1]\n",
    "    col_names = cleanest['headers']\n",
    "    print counter\n",
    "    try:\n",
    "        stats1 = cleanest['rowSet'][0]\n",
    "        stats2 = cleanest['rowSet'][1]\n",
    "        four_factors_list.append(stats1)\n",
    "        four_factors_list.append(stats2)\n",
    "    except Exception as e:\n",
    "        print data \n",
    "        print e"
   ]
  }
 ],
 "metadata": {
  "kernelspec": {
   "display_name": "Python 2",
   "language": "python",
   "name": "python2"
  },
  "language_info": {
   "codemirror_mode": {
    "name": "ipython",
    "version": 2
   },
   "file_extension": ".py",
   "mimetype": "text/x-python",
   "name": "python",
   "nbconvert_exporter": "python",
   "pygments_lexer": "ipython2",
   "version": "2.7.15"
  }
 },
 "nbformat": 4,
 "nbformat_minor": 2
}
